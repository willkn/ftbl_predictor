{
 "cells": [
  {
   "cell_type": "code",
   "execution_count": null,
   "metadata": {},
   "outputs": [],
   "source": [
    "import csv\n",
    "import numpy as np\n",
    "import sklearn.linear_model as LinearRegression\n",
    "from sklearn import datasets, linear_model\n",
    "from sklearn.metrics import mean_squared_error, r2_score\n",
    "import sklearn.model_selection\n",
    "import pandas as pd\n",
    "import statsmodels.api as sm\n",
    "import statsmodels.formula.api as smf\n",
    "import plotly as plt"
   ]
  },
  {
   "cell_type": "code",
   "execution_count": null,
   "metadata": {},
   "outputs": [],
   "source": [
    "data = csv.reader(open('PlayerStats/players_22.csv'))\n",
    "playersLocal = []\n",
    "for row in data:\n",
    "    playersLocal.append(row)"
   ]
  },
  {
   "cell_type": "code",
   "execution_count": null,
   "metadata": {},
   "outputs": [],
   "source": [
    "from search import attributes\n",
    "\n",
    "# indexes = []\n",
    "# relevantVariables = ['overall', 'age', 'international_reputation', 'release_clause_eur', 'weight_kg', 'potential', 'player_positions']\n",
    "\n",
    "# for variable in relevantVariables:\n",
    "#     indexes.append(attributes.index(variable))\n"
   ]
  },
  {
   "cell_type": "code",
   "execution_count": null,
   "metadata": {},
   "outputs": [],
   "source": [
    "# target = {} # playerName: marketValue\n",
    "# variables = []\n",
    "\n",
    "# for row in playersLocal:\n",
    "#     for item in row:\n",
    "#         if (item != row[5] and item != row[9] and item != row[30] and item != row[34] and item != row[12] and item != row[6] and item != row[4]):\n",
    "#             variables.append(item)\n",
    "\n",
    "# for row in playersLocal:\n",
    "#     target.update({row[3]: row[7]})\n",
    "\n"
   ]
  },
  {
   "cell_type": "code",
   "execution_count": null,
   "metadata": {},
   "outputs": [],
   "source": [
    "# Data needs to be set up in this format:\n",
    "# d = {'col1': [1, 2], 'col2': [3, 4]}\n",
    "# running describe() will then output this\n",
    "#    col1  col2\n",
    "# 0     1     3\n",
    "# 1     2     4\n",
    "\n"
   ]
  },
  {
   "cell_type": "code",
   "execution_count": 13,
   "metadata": {},
   "outputs": [
    {
     "name": "stderr",
     "output_type": "stream",
     "text": [
      "/home/will/programming/ftbl_predictor/lib/python3.8/site-packages/sklearn/utils/validation.py:964: FutureWarning: Arrays of bytes/strings is being converted to decimal numbers if dtype='numeric'. This behavior is deprecated in 0.24 and will be removed in 1.1 (renaming of 0.26). Please convert your data to numeric values explicitly instead.\n",
      "  X = check_array(\n"
     ]
    },
    {
     "ename": "TypeError",
     "evalue": "float() argument must be a string or a number, not 'dict_values'",
     "output_type": "error",
     "traceback": [
      "\u001b[0;31m---------------------------------------------------------------------------\u001b[0m",
      "\u001b[0;31mTypeError\u001b[0m                                 Traceback (most recent call last)",
      "\u001b[1;32m/home/will/programming/ftbl_predictor/predictor.ipynb Cell 6'\u001b[0m in \u001b[0;36m<module>\u001b[0;34m\u001b[0m\n\u001b[1;32m     <a href='vscode-notebook-cell:/home/will/programming/ftbl_predictor/predictor.ipynb#ch0000005?line=22'>23</a>\u001b[0m np\u001b[39m.\u001b[39mreshape(x, (\u001b[39m-\u001b[39m\u001b[39m1\u001b[39m, \u001b[39m1\u001b[39m))\n\u001b[1;32m     <a href='vscode-notebook-cell:/home/will/programming/ftbl_predictor/predictor.ipynb#ch0000005?line=25'>26</a>\u001b[0m regr \u001b[39m=\u001b[39m linear_model\u001b[39m.\u001b[39mLinearRegression()\n\u001b[0;32m---> <a href='vscode-notebook-cell:/home/will/programming/ftbl_predictor/predictor.ipynb#ch0000005?line=26'>27</a>\u001b[0m regr\u001b[39m.\u001b[39;49mfit(x, y)\n",
      "File \u001b[0;32m~/programming/ftbl_predictor/lib/python3.8/site-packages/sklearn/linear_model/_base.py:662\u001b[0m, in \u001b[0;36mLinearRegression.fit\u001b[0;34m(self, X, y, sample_weight)\u001b[0m\n\u001b[1;32m    <a href='file:///~/programming/ftbl_predictor/lib/python3.8/site-packages/sklearn/linear_model/_base.py?line=657'>658</a>\u001b[0m n_jobs_ \u001b[39m=\u001b[39m \u001b[39mself\u001b[39m\u001b[39m.\u001b[39mn_jobs\n\u001b[1;32m    <a href='file:///~/programming/ftbl_predictor/lib/python3.8/site-packages/sklearn/linear_model/_base.py?line=659'>660</a>\u001b[0m accept_sparse \u001b[39m=\u001b[39m \u001b[39mFalse\u001b[39;00m \u001b[39mif\u001b[39;00m \u001b[39mself\u001b[39m\u001b[39m.\u001b[39mpositive \u001b[39melse\u001b[39;00m [\u001b[39m\"\u001b[39m\u001b[39mcsr\u001b[39m\u001b[39m\"\u001b[39m, \u001b[39m\"\u001b[39m\u001b[39mcsc\u001b[39m\u001b[39m\"\u001b[39m, \u001b[39m\"\u001b[39m\u001b[39mcoo\u001b[39m\u001b[39m\"\u001b[39m]\n\u001b[0;32m--> <a href='file:///~/programming/ftbl_predictor/lib/python3.8/site-packages/sklearn/linear_model/_base.py?line=661'>662</a>\u001b[0m X, y \u001b[39m=\u001b[39m \u001b[39mself\u001b[39;49m\u001b[39m.\u001b[39;49m_validate_data(\n\u001b[1;32m    <a href='file:///~/programming/ftbl_predictor/lib/python3.8/site-packages/sklearn/linear_model/_base.py?line=662'>663</a>\u001b[0m     X, y, accept_sparse\u001b[39m=\u001b[39;49maccept_sparse, y_numeric\u001b[39m=\u001b[39;49m\u001b[39mTrue\u001b[39;49;00m, multi_output\u001b[39m=\u001b[39;49m\u001b[39mTrue\u001b[39;49;00m\n\u001b[1;32m    <a href='file:///~/programming/ftbl_predictor/lib/python3.8/site-packages/sklearn/linear_model/_base.py?line=663'>664</a>\u001b[0m )\n\u001b[1;32m    <a href='file:///~/programming/ftbl_predictor/lib/python3.8/site-packages/sklearn/linear_model/_base.py?line=665'>666</a>\u001b[0m \u001b[39mif\u001b[39;00m sample_weight \u001b[39mis\u001b[39;00m \u001b[39mnot\u001b[39;00m \u001b[39mNone\u001b[39;00m:\n\u001b[1;32m    <a href='file:///~/programming/ftbl_predictor/lib/python3.8/site-packages/sklearn/linear_model/_base.py?line=666'>667</a>\u001b[0m     sample_weight \u001b[39m=\u001b[39m _check_sample_weight(sample_weight, X, dtype\u001b[39m=\u001b[39mX\u001b[39m.\u001b[39mdtype)\n",
      "File \u001b[0;32m~/programming/ftbl_predictor/lib/python3.8/site-packages/sklearn/base.py:581\u001b[0m, in \u001b[0;36mBaseEstimator._validate_data\u001b[0;34m(self, X, y, reset, validate_separately, **check_params)\u001b[0m\n\u001b[1;32m    <a href='file:///~/programming/ftbl_predictor/lib/python3.8/site-packages/sklearn/base.py?line=578'>579</a>\u001b[0m         y \u001b[39m=\u001b[39m check_array(y, \u001b[39m*\u001b[39m\u001b[39m*\u001b[39mcheck_y_params)\n\u001b[1;32m    <a href='file:///~/programming/ftbl_predictor/lib/python3.8/site-packages/sklearn/base.py?line=579'>580</a>\u001b[0m     \u001b[39melse\u001b[39;00m:\n\u001b[0;32m--> <a href='file:///~/programming/ftbl_predictor/lib/python3.8/site-packages/sklearn/base.py?line=580'>581</a>\u001b[0m         X, y \u001b[39m=\u001b[39m check_X_y(X, y, \u001b[39m*\u001b[39;49m\u001b[39m*\u001b[39;49mcheck_params)\n\u001b[1;32m    <a href='file:///~/programming/ftbl_predictor/lib/python3.8/site-packages/sklearn/base.py?line=581'>582</a>\u001b[0m     out \u001b[39m=\u001b[39m X, y\n\u001b[1;32m    <a href='file:///~/programming/ftbl_predictor/lib/python3.8/site-packages/sklearn/base.py?line=583'>584</a>\u001b[0m \u001b[39mif\u001b[39;00m \u001b[39mnot\u001b[39;00m no_val_X \u001b[39mand\u001b[39;00m check_params\u001b[39m.\u001b[39mget(\u001b[39m\"\u001b[39m\u001b[39mensure_2d\u001b[39m\u001b[39m\"\u001b[39m, \u001b[39mTrue\u001b[39;00m):\n",
      "File \u001b[0;32m~/programming/ftbl_predictor/lib/python3.8/site-packages/sklearn/utils/validation.py:964\u001b[0m, in \u001b[0;36mcheck_X_y\u001b[0;34m(X, y, accept_sparse, accept_large_sparse, dtype, order, copy, force_all_finite, ensure_2d, allow_nd, multi_output, ensure_min_samples, ensure_min_features, y_numeric, estimator)\u001b[0m\n\u001b[1;32m    <a href='file:///~/programming/ftbl_predictor/lib/python3.8/site-packages/sklearn/utils/validation.py?line=960'>961</a>\u001b[0m \u001b[39mif\u001b[39;00m y \u001b[39mis\u001b[39;00m \u001b[39mNone\u001b[39;00m:\n\u001b[1;32m    <a href='file:///~/programming/ftbl_predictor/lib/python3.8/site-packages/sklearn/utils/validation.py?line=961'>962</a>\u001b[0m     \u001b[39mraise\u001b[39;00m \u001b[39mValueError\u001b[39;00m(\u001b[39m\"\u001b[39m\u001b[39my cannot be None\u001b[39m\u001b[39m\"\u001b[39m)\n\u001b[0;32m--> <a href='file:///~/programming/ftbl_predictor/lib/python3.8/site-packages/sklearn/utils/validation.py?line=963'>964</a>\u001b[0m X \u001b[39m=\u001b[39m check_array(\n\u001b[1;32m    <a href='file:///~/programming/ftbl_predictor/lib/python3.8/site-packages/sklearn/utils/validation.py?line=964'>965</a>\u001b[0m     X,\n\u001b[1;32m    <a href='file:///~/programming/ftbl_predictor/lib/python3.8/site-packages/sklearn/utils/validation.py?line=965'>966</a>\u001b[0m     accept_sparse\u001b[39m=\u001b[39;49maccept_sparse,\n\u001b[1;32m    <a href='file:///~/programming/ftbl_predictor/lib/python3.8/site-packages/sklearn/utils/validation.py?line=966'>967</a>\u001b[0m     accept_large_sparse\u001b[39m=\u001b[39;49maccept_large_sparse,\n\u001b[1;32m    <a href='file:///~/programming/ftbl_predictor/lib/python3.8/site-packages/sklearn/utils/validation.py?line=967'>968</a>\u001b[0m     dtype\u001b[39m=\u001b[39;49mdtype,\n\u001b[1;32m    <a href='file:///~/programming/ftbl_predictor/lib/python3.8/site-packages/sklearn/utils/validation.py?line=968'>969</a>\u001b[0m     order\u001b[39m=\u001b[39;49morder,\n\u001b[1;32m    <a href='file:///~/programming/ftbl_predictor/lib/python3.8/site-packages/sklearn/utils/validation.py?line=969'>970</a>\u001b[0m     copy\u001b[39m=\u001b[39;49mcopy,\n\u001b[1;32m    <a href='file:///~/programming/ftbl_predictor/lib/python3.8/site-packages/sklearn/utils/validation.py?line=970'>971</a>\u001b[0m     force_all_finite\u001b[39m=\u001b[39;49mforce_all_finite,\n\u001b[1;32m    <a href='file:///~/programming/ftbl_predictor/lib/python3.8/site-packages/sklearn/utils/validation.py?line=971'>972</a>\u001b[0m     ensure_2d\u001b[39m=\u001b[39;49mensure_2d,\n\u001b[1;32m    <a href='file:///~/programming/ftbl_predictor/lib/python3.8/site-packages/sklearn/utils/validation.py?line=972'>973</a>\u001b[0m     allow_nd\u001b[39m=\u001b[39;49mallow_nd,\n\u001b[1;32m    <a href='file:///~/programming/ftbl_predictor/lib/python3.8/site-packages/sklearn/utils/validation.py?line=973'>974</a>\u001b[0m     ensure_min_samples\u001b[39m=\u001b[39;49mensure_min_samples,\n\u001b[1;32m    <a href='file:///~/programming/ftbl_predictor/lib/python3.8/site-packages/sklearn/utils/validation.py?line=974'>975</a>\u001b[0m     ensure_min_features\u001b[39m=\u001b[39;49mensure_min_features,\n\u001b[1;32m    <a href='file:///~/programming/ftbl_predictor/lib/python3.8/site-packages/sklearn/utils/validation.py?line=975'>976</a>\u001b[0m     estimator\u001b[39m=\u001b[39;49mestimator,\n\u001b[1;32m    <a href='file:///~/programming/ftbl_predictor/lib/python3.8/site-packages/sklearn/utils/validation.py?line=976'>977</a>\u001b[0m )\n\u001b[1;32m    <a href='file:///~/programming/ftbl_predictor/lib/python3.8/site-packages/sklearn/utils/validation.py?line=978'>979</a>\u001b[0m y \u001b[39m=\u001b[39m _check_y(y, multi_output\u001b[39m=\u001b[39mmulti_output, y_numeric\u001b[39m=\u001b[39my_numeric)\n\u001b[1;32m    <a href='file:///~/programming/ftbl_predictor/lib/python3.8/site-packages/sklearn/utils/validation.py?line=980'>981</a>\u001b[0m check_consistent_length(X, y)\n",
      "File \u001b[0;32m~/programming/ftbl_predictor/lib/python3.8/site-packages/sklearn/utils/validation.py:787\u001b[0m, in \u001b[0;36mcheck_array\u001b[0;34m(array, accept_sparse, accept_large_sparse, dtype, order, copy, force_all_finite, ensure_2d, allow_nd, ensure_min_samples, ensure_min_features, estimator)\u001b[0m\n\u001b[1;32m    <a href='file:///~/programming/ftbl_predictor/lib/python3.8/site-packages/sklearn/utils/validation.py?line=777'>778</a>\u001b[0m warnings\u001b[39m.\u001b[39mwarn(\n\u001b[1;32m    <a href='file:///~/programming/ftbl_predictor/lib/python3.8/site-packages/sklearn/utils/validation.py?line=778'>779</a>\u001b[0m     \u001b[39m\"\u001b[39m\u001b[39mArrays of bytes/strings is being converted to decimal \u001b[39m\u001b[39m\"\u001b[39m\n\u001b[1;32m    <a href='file:///~/programming/ftbl_predictor/lib/python3.8/site-packages/sklearn/utils/validation.py?line=779'>780</a>\u001b[0m     \u001b[39m\"\u001b[39m\u001b[39mnumbers if dtype=\u001b[39m\u001b[39m'\u001b[39m\u001b[39mnumeric\u001b[39m\u001b[39m'\u001b[39m\u001b[39m. This behavior is deprecated in \u001b[39m\u001b[39m\"\u001b[39m\n\u001b[0;32m   (...)\u001b[0m\n\u001b[1;32m    <a href='file:///~/programming/ftbl_predictor/lib/python3.8/site-packages/sklearn/utils/validation.py?line=783'>784</a>\u001b[0m     stacklevel\u001b[39m=\u001b[39m\u001b[39m2\u001b[39m,\n\u001b[1;32m    <a href='file:///~/programming/ftbl_predictor/lib/python3.8/site-packages/sklearn/utils/validation.py?line=784'>785</a>\u001b[0m )\n\u001b[1;32m    <a href='file:///~/programming/ftbl_predictor/lib/python3.8/site-packages/sklearn/utils/validation.py?line=785'>786</a>\u001b[0m \u001b[39mtry\u001b[39;00m:\n\u001b[0;32m--> <a href='file:///~/programming/ftbl_predictor/lib/python3.8/site-packages/sklearn/utils/validation.py?line=786'>787</a>\u001b[0m     array \u001b[39m=\u001b[39m array\u001b[39m.\u001b[39;49mastype(np\u001b[39m.\u001b[39;49mfloat64)\n\u001b[1;32m    <a href='file:///~/programming/ftbl_predictor/lib/python3.8/site-packages/sklearn/utils/validation.py?line=787'>788</a>\u001b[0m \u001b[39mexcept\u001b[39;00m \u001b[39mValueError\u001b[39;00m \u001b[39mas\u001b[39;00m e:\n\u001b[1;32m    <a href='file:///~/programming/ftbl_predictor/lib/python3.8/site-packages/sklearn/utils/validation.py?line=788'>789</a>\u001b[0m     \u001b[39mraise\u001b[39;00m \u001b[39mValueError\u001b[39;00m(\n\u001b[1;32m    <a href='file:///~/programming/ftbl_predictor/lib/python3.8/site-packages/sklearn/utils/validation.py?line=789'>790</a>\u001b[0m         \u001b[39m\"\u001b[39m\u001b[39mUnable to convert array of bytes/strings \u001b[39m\u001b[39m\"\u001b[39m\n\u001b[1;32m    <a href='file:///~/programming/ftbl_predictor/lib/python3.8/site-packages/sklearn/utils/validation.py?line=790'>791</a>\u001b[0m         \u001b[39m\"\u001b[39m\u001b[39minto decimal numbers with dtype=\u001b[39m\u001b[39m'\u001b[39m\u001b[39mnumeric\u001b[39m\u001b[39m'\u001b[39m\u001b[39m\"\u001b[39m\n\u001b[1;32m    <a href='file:///~/programming/ftbl_predictor/lib/python3.8/site-packages/sklearn/utils/validation.py?line=791'>792</a>\u001b[0m     ) \u001b[39mfrom\u001b[39;00m \u001b[39me\u001b[39;00m\n",
      "\u001b[0;31mTypeError\u001b[0m: float() argument must be a string or a number, not 'dict_values'"
     ]
    }
   ],
   "source": [
    "# The code creates a list of market values and a list nested arrays containing players attributes. These match up so can be built into a dataframe fairly easily. \n",
    "market_values = []\n",
    "relevant_attributes = []\n",
    "\n",
    "for row in playersLocal:\n",
    "    list_of_values = dict(zip(attributes, row))\n",
    "    market_values.append(list_of_values.get('value_eur'))\n",
    "\n",
    "for row in playersLocal:\n",
    "    list_of_attributes = dict(zip(attributes, row))\n",
    "    temp = list_of_attributes.values()\n",
    "    relevant_attributes.append([temp])\n",
    "\n",
    "\n",
    "# # Create a dataframe. Put all the attributes at the top of the csv file so the parser what's what\n",
    "\n",
    "\n",
    "x = market_values\n",
    "x = relevant_attributes\n",
    "\n",
    "y = relevant_attributes\n",
    "\n",
    "np.reshape(x, (-1, 1))\n",
    "\n",
    "\n",
    "regr = linear_model.LinearRegression()\n",
    "regr.fit(x, y)\n",
    "\n",
    "\n",
    "\n",
    "  \n",
    "\n",
    "    "
   ]
  },
  {
   "cell_type": "code",
   "execution_count": 16,
   "metadata": {},
   "outputs": [
    {
     "name": "stdout",
     "output_type": "stream",
     "text": [
      "Index(['sofifa_id', 'player_url', 'short_name', 'long_name',\n",
      "       'player_positions', 'overall', 'potential', 'value_eur', 'wage_eur',\n",
      "       'age',\n",
      "       ...\n",
      "       'lcb', 'cb', 'rcb', 'rb', 'gk', 'player_face_url', 'club_logo_url',\n",
      "       'club_flag_url', 'nation_logo_url', 'nation_flag_url'],\n",
      "      dtype='object', length=110)\n"
     ]
    }
   ],
   "source": [
    "df = pd.read_csv('./PlayerStats/players_22.csv')\n",
    "\n",
    "pd.set_option('display.max_columns', 200)\n",
    "\n",
    "\n",
    "df.shape\n",
    "# df.dtypes\n",
    "df.columns\n"
   ]
  }
 ],
 "metadata": {
  "interpreter": {
   "hash": "31f2aee4e71d21fbe5cf8b01ff0e069b9275f58929596ceb00d14d90e3e16cd6"
  },
  "kernelspec": {
   "display_name": "Python 3.8.10 64-bit",
   "language": "python",
   "name": "python3"
  },
  "language_info": {
   "codemirror_mode": {
    "name": "ipython",
    "version": 3
   },
   "file_extension": ".py",
   "mimetype": "text/x-python",
   "name": "python",
   "nbconvert_exporter": "python",
   "pygments_lexer": "ipython3",
   "version": "3.8.10"
  },
  "orig_nbformat": 4
 },
 "nbformat": 4,
 "nbformat_minor": 2
}
